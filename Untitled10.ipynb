{
  "nbformat": 4,
  "nbformat_minor": 0,
  "metadata": {
    "colab": {
      "provenance": [],
      "authorship_tag": "ABX9TyOnFJbgpe4tZ80BzbAQjE0R",
      "include_colab_link": true
    },
    "kernelspec": {
      "name": "python3",
      "display_name": "Python 3"
    },
    "language_info": {
      "name": "python"
    }
  },
  "cells": [
    {
      "cell_type": "markdown",
      "metadata": {
        "id": "view-in-github",
        "colab_type": "text"
      },
      "source": [
        "<a href=\"https://colab.research.google.com/github/ingeluis22/parcial---3/blob/main/Untitled10.ipynb\" target=\"_parent\"><img src=\"https://colab.research.google.com/assets/colab-badge.svg\" alt=\"Open In Colab\"/></a>"
      ]
    },
    {
      "cell_type": "code",
      "execution_count": null,
      "metadata": {
        "id": "WPkbWAzzhuqI"
      },
      "outputs": [],
      "source": [
        "algoritmo para Calcular promedio ponderado\n",
        "\n",
        "Iniciar.\n",
        "Declarar variables: la calificación ingresada, el porcentaje de la calificación en el cálculo del promedio, la suma de las notas multiplicadas por sus respectivos pesos, la suma de los pesos de todas las calificaciones, el promedio ponderado final.\n",
        "Preguntar si se desea ingresar otra calificación (\"sí\" o \"no\").\n",
        "Inicializar sumatoria_productos y sumatoria_pesos en 0.\n",
        "Repetir hasta que el usuario decida no ingresar más notas:\n",
        "Pedir al usuario ingresar una nota (calificación).\n",
        "Pedir al usuario ingresar el peso de la nota (en porcentaje).\n",
        "Multiplicar la nota por el peso y sumar el resultado a sumatoria_productos.\n",
        "Sumar el peso a sumatoria_pesos.\n",
        "Preguntar al usuario si desea ingresar otra nota (continuar):\n",
        "Si el usuario responde \"sí\", repetir los pasos anteriores.\n",
        "\n",
        "Si el usuario responde \"no\", continuar con el cálculo del promedio.\n",
        "\n",
        "Calcular el promedio ponderado: promedio_ponderado = sumatoria_productos / sumatoria_pesos.\n",
        "Mostrar el promedio ponderado al usuario.\n",
        "Finalizar.\n",
        "  ´´´\n",
        "  peudocodigo_promedio_ponderado\n",
        "  Start\n",
        "\n",
        "Declare float nota Declare float peso Declare float sumatoria_productos = 0 Declare float sumatoria_pesos = 0 Declare string continuar = \"si\" Declare float promedio_ponderado\n",
        "\n",
        "While (continuar == \"si\") Do Display \"Ingrese la nota:\" Input nota Display \"Ingrese el porcentaje (peso) de la nota:\" Input peso sumatoria_productos = sumatoria_productos + (nota * peso) sumatoria_pesos = sumatoria_pesos + peso Display \"¿Desea ingresar otra nota? (si/no):\" Input continuar End While\n",
        "\n",
        "If (sumatoria_pesos > 0) then promedio_ponderado = sumatoria_productos / sumatoria_pesos Display \"El promedio ponderado es: \", promedio_ponderado Else Display \"No se ingresaron suficientes datos para calcular el promedio.\" End If\n",
        "\n",
        "End\n",
        "  ´´´"
      ]
    },
    {
      "cell_type": "code",
      "source": [
        "sumatoria_productos = 0\n",
        "sumatoria_pesos = 0\n",
        "continuar = \"si\"\n",
        "\n",
        "\n",
        "while continuar.lower() == \"si\":\n",
        "    nota = float(input(\"Ingrese la nota: \"))\n",
        "    peso = float(input(\"Ingrese el porcentaje (peso) de la nota: \"))\n",
        "\n",
        "\n",
        "    sumatoria_productos += nota * peso\n",
        "    sumatoria_pesos += peso\n",
        "\n",
        "\n",
        "    continuar = input(\"¿Desea ingresar otra nota? (si/no): \")\n",
        "\n",
        "\n",
        "if sumatoria_pesos > 0:\n",
        "    promedio_ponderado = sumatoria_productos / sumatoria_pesos\n",
        "    print(f\"El promedio ponderado es: {promedio_ponderado:.2f}\")\n",
        "else:\n",
        "    print(\"No se ingresaron suficientes datos para calcular el promedio.\")"
      ],
      "metadata": {
        "id": "vsrNT1wYix-1"
      },
      "execution_count": 4,
      "outputs": []
    },
    {
      "cell_type": "code",
      "source": [
        " Algoritmo para jugar Cara o Sello\n",
        "\n",
        "\t1.\tInicializar los puntos en 0 y los intentos en 3.\n",
        "\t2.\tSeleccionar aleatoriamente entre “cara” o “sello”.\n",
        "\t3.\tPedir al usuario que haga su adivinanza.\n",
        "\t4.\tComparar la adivinanza con la selección aleatoria:\n",
        "\t•\tSi acierta, sumar un punto y reiniciar los intentos a 3.\n",
        "\t•\tSi falla, restar un intento.\n",
        "\t5.\tSi los intentos llegan a 0, mostrar los puntos obtenidos y preguntar si quiere jugar de nuevo.\n",
        "\t•\tSi el usuario responde “sí”, reiniciar el juego (puntos e intentos).\n",
        "\t•\tSi responde “no”, finalizar el programa.\n",
        "\t6.\tRepetir los pasos hasta que el usuario decida salir.\n",
        "\n",
        "\n",
        "  ´´´\n",
        "  Pseudocódigo_Cara_o_Sello\n",
        "\n",
        "Start\n",
        "\n",
        "puntos - 0 intentos - 3 repetir_juego - Verdadero\n",
        "\n",
        "MIENTRAS repetir_juego = Verdadero HACER SELECCIONAR aleatoriamente entre \"cara\" o \"sello\" MIENTRAS intentos > 0 HACER MOSTRAR \"Adivina: cara o sello\" leer adivinanza_usuario\n",
        "\n",
        "SI adivinanza_usuario = elección_aleatoria ENTONCES puntos - puntos + 1 intentos - 3\n",
        "\n",
        "MOSTRAR \"¡Correcto! Tienes\", puntos, \"punto(s).\"\n",
        "\n",
        "SELECCIONAR nuevamente aleatoriamente entre \"cara\" o \"sello\"I NO intentos ← intentos - 1\n",
        "\n",
        "SI intentos > 0 ENTONCES\n",
        "\n",
        "MOSTRAR \"Incorrecto. Te quedan\", intentos, \"intentos.\"\n",
        "\n",
        "SI NO\n",
        "\n",
        "MOSTRAR \"Te has quedado sin intentos. Has conseguido\", puntos, \"punto(s).\"\n",
        "\n",
        "MOSTRAR \"¿Quieres jugar de nuevo? (sí/no)\"\n",
        "\n",
        "leer respuesta\n",
        "\n",
        "SI respuesta = \"no\" ENTONCES repetir_juego - Falso\n",
        "\n",
        "SINO puntos - 0 intentos - 3\n",
        "\n",
        "end\n",
        "  ´´´\n",
        "\n"
      ],
      "metadata": {
        "id": "9XzMViIokI7c"
      },
      "execution_count": null,
      "outputs": []
    },
    {
      "cell_type": "code",
      "source": [
        "def jugar_cara_o_sello():\n",
        "    puntos = 0\n",
        "    intentos = 3\n",
        "    repetir_juego = True\n",
        "\n",
        "    while repetir_juego:\n",
        "        eleccion_aleatoria = random.choice([\"cara\", \"sello\"])\n",
        "\n",
        "        while intentos > 0:\n",
        "            adivinanza_usuario = input(\"Adivina: ¿cara o sello? \").lower()\n",
        "\n",
        "            if adivinanza_usuario == eleccion_aleatoria:\n",
        "                puntos += 1\n",
        "                intentos = 3\n",
        "                print(f\"¡Correcto! Tienes {puntos} punto(s).\")\n",
        "                eleccion_aleatoria = random.choice([\"cara\", \"sello\"])\n",
        "            else:\n",
        "                intentos -= 1\n",
        "                if intentos > 0:\n",
        "                    print(f\"Incorrecto. Te quedan {intentos} intentos.\")\n",
        "                else:\n",
        "                    print(f\"Te has quedado sin intentos. Has conseguido {puntos} punto(s).\")\n",
        "\n",
        "        respuesta = input(\"¿Quieres jugar de nuevo? (sí/no): \").lower()\n",
        "        if respuesta != \"sí\":\n",
        "            repetir_juego = False\n",
        "        else:\n",
        "            puntos = 0\n",
        "            intentos = 3\n",
        "\n",
        "# Iniciar el juego\n",
        "jugar_cara_o_sello()"
      ],
      "metadata": {
        "colab": {
          "base_uri": "https://localhost:8080/",
          "height": 297
        },
        "id": "lIOWGtozkS6p",
        "outputId": "00abf5cb-48cd-4d92-ecc6-308b4b57b59d"
      },
      "execution_count": 6,
      "outputs": [
        {
          "output_type": "error",
          "ename": "NameError",
          "evalue": "name 'random' is not defined",
          "traceback": [
            "\u001b[0;31m---------------------------------------------------------------------------\u001b[0m",
            "\u001b[0;31mNameError\u001b[0m                                 Traceback (most recent call last)",
            "\u001b[0;32m<ipython-input-6-4ef32bf685ab>\u001b[0m in \u001b[0;36m<cell line: 32>\u001b[0;34m()\u001b[0m\n\u001b[1;32m     30\u001b[0m \u001b[0;34m\u001b[0m\u001b[0m\n\u001b[1;32m     31\u001b[0m \u001b[0;31m# Iniciar el juego\u001b[0m\u001b[0;34m\u001b[0m\u001b[0;34m\u001b[0m\u001b[0m\n\u001b[0;32m---> 32\u001b[0;31m \u001b[0mjugar_cara_o_sello\u001b[0m\u001b[0;34m(\u001b[0m\u001b[0;34m)\u001b[0m\u001b[0;34m\u001b[0m\u001b[0;34m\u001b[0m\u001b[0m\n\u001b[0m",
            "\u001b[0;32m<ipython-input-6-4ef32bf685ab>\u001b[0m in \u001b[0;36mjugar_cara_o_sello\u001b[0;34m()\u001b[0m\n\u001b[1;32m      5\u001b[0m \u001b[0;34m\u001b[0m\u001b[0m\n\u001b[1;32m      6\u001b[0m     \u001b[0;32mwhile\u001b[0m \u001b[0mrepetir_juego\u001b[0m\u001b[0;34m:\u001b[0m\u001b[0;34m\u001b[0m\u001b[0;34m\u001b[0m\u001b[0m\n\u001b[0;32m----> 7\u001b[0;31m         \u001b[0meleccion_aleatoria\u001b[0m \u001b[0;34m=\u001b[0m \u001b[0mrandom\u001b[0m\u001b[0;34m.\u001b[0m\u001b[0mchoice\u001b[0m\u001b[0;34m(\u001b[0m\u001b[0;34m[\u001b[0m\u001b[0;34m\"cara\"\u001b[0m\u001b[0;34m,\u001b[0m \u001b[0;34m\"sello\"\u001b[0m\u001b[0;34m]\u001b[0m\u001b[0;34m)\u001b[0m\u001b[0;34m\u001b[0m\u001b[0;34m\u001b[0m\u001b[0m\n\u001b[0m\u001b[1;32m      8\u001b[0m \u001b[0;34m\u001b[0m\u001b[0m\n\u001b[1;32m      9\u001b[0m         \u001b[0;32mwhile\u001b[0m \u001b[0mintentos\u001b[0m \u001b[0;34m>\u001b[0m \u001b[0;36m0\u001b[0m\u001b[0;34m:\u001b[0m\u001b[0;34m\u001b[0m\u001b[0;34m\u001b[0m\u001b[0m\n",
            "\u001b[0;31mNameError\u001b[0m: name 'random' is not defined"
          ]
        }
      ]
    }
  ]
}